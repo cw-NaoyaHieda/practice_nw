{
 "cells": [
  {
   "cell_type": "markdown",
   "metadata": {},
   "source": [
    "データ生成"
   ]
  },
  {
   "cell_type": "code",
   "execution_count": 1,
   "metadata": {},
   "outputs": [
    {
     "name": "stderr",
     "output_type": "stream",
     "text": [
      "Using TensorFlow backend.\n"
     ]
    }
   ],
   "source": [
    "import numpy as np\n",
    "from keras.models import Sequential\n",
    "from keras.layers import Dense, Activation\n",
    "from keras.optimizers import SGD\n",
    "from sklearn.utils import shuffle\n",
    "\n",
    "np.random.seed(0)  # 乱数シード\n",
    "\n",
    "M = 2      # 入力データの次元\n",
    "K = 3      # クラス数\n",
    "n = 100    # クラスごとのデータ数\n",
    "N = n * K  # 全データ数\n",
    "\n",
    "X1 = np.random.randn(n, M) + np.array([0, 10])\n",
    "X2 = np.random.randn(n, M) + np.array([5, 5])\n",
    "X3 = np.random.randn(n, M) + np.array([10, 0])\n",
    "Y1 = np.array([[1, 0, 0] for i in range(n)])\n",
    "Y2 = np.array([[0, 1, 0] for i in range(n)])\n",
    "Y3 = np.array([[0, 0, 1] for i in range(n)])\n",
    "\n",
    "X = np.concatenate((X1, X2, X3), axis=0)\n",
    "Y = np.concatenate((Y1, Y2, Y3), axis=0)"
   ]
  },
  {
   "cell_type": "markdown",
   "metadata": {},
   "source": [
    "モデル設定"
   ]
  },
  {
   "cell_type": "code",
   "execution_count": 2,
   "metadata": {},
   "outputs": [],
   "source": [
    "model = Sequential()\n",
    "model.add(Dense(input_dim=M, units=K))\n",
    "model.add(Activation('softmax'))\n",
    "\n",
    "model.compile(loss='categorical_crossentropy', optimizer=SGD(lr=0.1))"
   ]
  },
  {
   "cell_type": "markdown",
   "metadata": {},
   "source": [
    "モデル学習"
   ]
  },
  {
   "cell_type": "code",
   "execution_count": 3,
   "metadata": {},
   "outputs": [
    {
     "name": "stdout",
     "output_type": "stream",
     "text": [
      "Epoch 1/20\n",
      "300/300 [==============================] - 2s 5ms/step - loss: 2.0826\n",
      "Epoch 2/20\n",
      "300/300 [==============================] - 0s 55us/step - loss: 0.1829\n",
      "Epoch 3/20\n",
      "300/300 [==============================] - 0s 54us/step - loss: 0.1311\n",
      "Epoch 4/20\n",
      "300/300 [==============================] - 0s 53us/step - loss: 0.1057\n",
      "Epoch 5/20\n",
      "300/300 [==============================] - 0s 55us/step - loss: 0.0902\n",
      "Epoch 6/20\n",
      "300/300 [==============================] - 0s 53us/step - loss: 0.0789\n",
      "Epoch 7/20\n",
      "300/300 [==============================] - 0s 53us/step - loss: 0.0701\n",
      "Epoch 8/20\n",
      "300/300 [==============================] - 0s 53us/step - loss: 0.0636\n",
      "Epoch 9/20\n",
      "300/300 [==============================] - 0s 53us/step - loss: 0.0590\n",
      "Epoch 10/20\n",
      "300/300 [==============================] - 0s 51us/step - loss: 0.0542\n",
      "Epoch 11/20\n",
      "300/300 [==============================] - 0s 52us/step - loss: 0.0510\n",
      "Epoch 12/20\n",
      "300/300 [==============================] - 0s 55us/step - loss: 0.0476\n",
      "Epoch 13/20\n",
      "300/300 [==============================] - 0s 55us/step - loss: 0.0455\n",
      "Epoch 14/20\n",
      "300/300 [==============================] - 0s 54us/step - loss: 0.0433\n",
      "Epoch 15/20\n",
      "300/300 [==============================] - 0s 56us/step - loss: 0.0408\n",
      "Epoch 16/20\n",
      "300/300 [==============================] - 0s 56us/step - loss: 0.0388\n",
      "Epoch 17/20\n",
      "300/300 [==============================] - 0s 56us/step - loss: 0.0370\n",
      "Epoch 18/20\n",
      "300/300 [==============================] - 0s 56us/step - loss: 0.0355\n",
      "Epoch 19/20\n",
      "300/300 [==============================] - 0s 55us/step - loss: 0.0344\n",
      "Epoch 20/20\n",
      "300/300 [==============================] - 0s 55us/step - loss: 0.0331\n"
     ]
    },
    {
     "data": {
      "text/plain": [
       "<keras.callbacks.History at 0x7f619ea13dd0>"
      ]
     },
     "execution_count": 3,
     "metadata": {},
     "output_type": "execute_result"
    }
   ],
   "source": [
    "minibatch_size = 50\n",
    "model.fit(X, Y, epochs=20, batch_size=minibatch_size)"
   ]
  },
  {
   "cell_type": "markdown",
   "metadata": {},
   "source": [
    "学習結果の確認"
   ]
  },
  {
   "cell_type": "code",
   "execution_count": 4,
   "metadata": {},
   "outputs": [
    {
     "name": "stdout",
     "output_type": "stream",
     "text": [
      "classified:\n",
      "[ True  True  True  True  True  True  True  True  True  True]\n",
      "()\n",
      "output probability:\n",
      "[[9.9865520e-01 1.3448116e-03 2.1935601e-10]\n",
      " [2.9307469e-03 9.7283429e-01 2.4235016e-02]\n",
      " [9.6656960e-01 3.3430368e-02 4.5890193e-08]\n",
      " [1.7156677e-02 9.7406363e-01 8.7796366e-03]\n",
      " [3.4497252e-09 9.4414735e-03 9.9055851e-01]\n",
      " [1.4953142e-02 9.7935200e-01 5.6948499e-03]\n",
      " [2.0219373e-07 4.6562523e-02 9.5343727e-01]\n",
      " [6.5991479e-08 9.5339734e-03 9.9046600e-01]\n",
      " [7.0335742e-12 1.5032224e-04 9.9984968e-01]\n",
      " [9.9576533e-01 4.2346483e-03 2.3160653e-09]]\n"
     ]
    }
   ],
   "source": [
    "X_, Y_ = shuffle(X, Y)\n",
    "classes = model.predict_classes(X_[0:10], batch_size=minibatch_size)\n",
    "prob = model.predict_proba(X_[0:10], batch_size=minibatch_size)\n",
    "print('classified:')\n",
    "print(np.argmax(model.predict(X_[0:10]), axis=1) == classes)\n",
    "print()\n",
    "print('output probability:')\n",
    "print(prob)"
   ]
  },
  {
   "cell_type": "code",
   "execution_count": 24,
   "metadata": {},
   "outputs": [
    {
     "data": {
      "text/plain": [
       "[<matplotlib.lines.Line2D at 0x7f61346f81d0>]"
      ]
     },
     "execution_count": 24,
     "metadata": {},
     "output_type": "execute_result"
    },
    {
     "data": {
      "image/png": "[encoded data removed]",
      "text/plain": [
       "<Figure size 432x288 with 1 Axes>"
      ]
     },
     "metadata": {},
     "output_type": "display_data"
    }
   ],
   "source": [
    "import matplotlib.pyplot as plt\n",
    "W_es = model.get_weights()[0]\n",
    "b_es = model.get_weights()[1]\n",
    "plot_x = np.arange(-2, 10, 0.1)\n",
    "plt.plot(X1[:,0],X1[:,1],'o')\n",
    "plt.plot(X2[:,0],X2[:,1],'o')\n",
    "plt.plot(X3[:,0],X3[:,1],'o')\n",
    "plt.plot(plot_x,(-(W_es[0,0] - W_es[0,1]) * plot_x - (b_es[0]-b_es[1])) /(W_es[1,0] - W_es[1,1]))\n",
    "plt.plot(plot_x,(-(W_es[0,1] - W_es[0,2]) * plot_x - (b_es[1]-b_es[2])) /(W_es[1,1] - W_es[1,2]))\n",
    "plt.plot(plot_x,(-(W_es[0,0] - W_es[0,2]) * plot_x - (b_es[0]-b_es[2])) /(W_es[1,0] - W_es[1,2]))"
   ]
  },
  {
   "cell_type": "code",
   "execution_count": null,
   "metadata": {},
   "outputs": [],
   "source": []
  }
 ],
 "metadata": {
  "kernelspec": {
   "display_name": "Python 2",
   "language": "python",
   "name": "python2"
  },
  "language_info": {
   "codemirror_mode": {
    "name": "ipython",
    "version": 2
   },
   "file_extension": ".py",
   "mimetype": "text/x-python",
   "name": "python",
   "nbconvert_exporter": "python",
   "pygments_lexer": "ipython2",
   "version": "2.7.12"
  }
 },
 "nbformat": 4,
 "nbformat_minor": 2
}
