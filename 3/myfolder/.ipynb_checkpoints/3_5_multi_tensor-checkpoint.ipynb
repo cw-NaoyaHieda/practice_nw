{
 "cells": [
  {
   "cell_type": "markdown",
   "metadata": {},
   "source": [
    "データの生成"
   ]
  },
  {
   "cell_type": "code",
   "execution_count": 1,
   "metadata": {},
   "outputs": [],
   "source": [
    "import numpy as np\n",
    "import tensorflow as tf\n",
    "from sklearn.utils import shuffle\n",
    "\n",
    "np.random.seed(0)\n",
    "tf.set_random_seed(0)\n",
    "\n",
    "M = 2      # 入力データの次元\n",
    "K = 3      # クラス数\n",
    "n = 100    # クラスごとのデータ数\n",
    "N = n * K  # 全データ数\n",
    "\n",
    "\n",
    "X1 = np.random.randn(n, M) + np.array([0, 10])\n",
    "X2 = np.random.randn(n, M) + np.array([5, 5])\n",
    "X3 = np.random.randn(n, M) + np.array([10, 0])\n",
    "Y1 = np.array([[1, 0, 0] for i in range(n)])\n",
    "Y2 = np.array([[0, 1, 0] for i in range(n)])\n",
    "Y3 = np.array([[0, 0, 1] for i in range(n)])\n",
    "\n",
    "X = np.concatenate((X1, X2, X3), axis=0)\n",
    "Y = np.concatenate((Y1, Y2, Y3), axis=0)"
   ]
  },
  {
   "cell_type": "code",
   "execution_count": 2,
   "metadata": {},
   "outputs": [
    {
     "data": {
      "text/plain": [
       "[<matplotlib.lines.Line2D at 0x7f1cb944e750>]"
      ]
     },
     "execution_count": 2,
     "metadata": {},
     "output_type": "execute_result"
    }
   ],
   "source": [
    "import matplotlib.pyplot as plt\n",
    "plt.plot(X1[:,0],X1[:,1],'o')\n",
    "plt.plot(X2[:,0],X2[:,1],'o')\n",
    "plt.plot(X3[:,0],X3[:,1],'o')"
   ]
  },
  {
   "cell_type": "markdown",
   "metadata": {},
   "source": [
    "モデル設定"
   ]
  },
  {
   "cell_type": "code",
   "execution_count": 3,
   "metadata": {},
   "outputs": [],
   "source": [
    "#入力次元とクラス数に合わせてW とK\n",
    "W = tf.Variable(tf.zeros([M, K]))\n",
    "b = tf.Variable(tf.zeros([K]))\n",
    "#入力と答えと出力の箱\n",
    "x = tf.placeholder(tf.float32, shape=[None, M])\n",
    "t = tf.placeholder(tf.float32, shape=[None, K])\n",
    "y = tf.nn.softmax(tf.matmul(x, W) + b)\n",
    "#交差エントロピーの準備　GDOで最適化\n",
    "cross_entropy = tf.reduce_mean(-tf.reduce_sum(t * tf.log(y), axis=1))\n",
    "train_step = tf.train.GradientDescentOptimizer(0.1).minimize(cross_entropy)\n",
    "#分類が正しいか確認\n",
    "correct_prediction = tf.equal(tf.argmax(y, 1), tf.argmax(t, 1))"
   ]
  },
  {
   "cell_type": "markdown",
   "metadata": {},
   "source": [
    "モデル学習"
   ]
  },
  {
   "cell_type": "code",
   "execution_count": 4,
   "metadata": {},
   "outputs": [],
   "source": [
    "# 初期化\n",
    "init = tf.global_variables_initializer()\n",
    "sess = tf.Session()\n",
    "sess.run(init)\n",
    "\n",
    "batch_size = 50  # ミニバッチサイズ\n",
    "n_batches = N // batch_size\n",
    "\n",
    "# ミニバッチ学習\n",
    "for epoch in range(20):\n",
    "    X_, Y_ = shuffle(X, Y)\n",
    "\n",
    "    for i in range(n_batches):\n",
    "        start = i * batch_size\n",
    "        end = start + batch_size\n",
    "\n",
    "        sess.run(train_step, feed_dict={\n",
    "            x: X_[start:end],\n",
    "            t: Y_[start:end]\n",
    "        })"
   ]
  },
  {
   "cell_type": "markdown",
   "metadata": {},
   "source": [
    "学習結果の確認"
   ]
  },
  {
   "cell_type": "code",
   "execution_count": 5,
   "metadata": {},
   "outputs": [
    {
     "name": "stdout",
     "output_type": "stream",
     "text": [
      "classified:\n",
      "[ True  True  True  True  True  True  True  True  True  True]\n",
      "()\n",
      "output probability:\n",
      "[[9.9868268e-01 1.3173167e-03 2.5878541e-10]\n",
      " [3.4313092e-03 9.6904927e-01 2.7519418e-02]\n",
      " [9.6915740e-01 3.0842548e-02 5.0909769e-08]\n",
      " [1.9351482e-02 9.7068453e-01 9.9640051e-03]\n",
      " [4.1215884e-09 8.5910317e-03 9.9140900e-01]\n",
      " [1.7154520e-02 9.7633582e-01 6.5096989e-03]\n",
      " [2.3086068e-07 4.2457715e-02 9.5754200e-01]\n",
      " [7.2534711e-08 8.8783978e-03 9.9112153e-01]\n",
      " [8.4302730e-12 1.4183823e-04 9.9985814e-01]\n",
      " [9.9589419e-01 4.1058036e-03 2.6871794e-09]]\n"
     ]
    }
   ],
   "source": [
    "X_, Y_ = shuffle(X, Y)\n",
    "\n",
    "classified = correct_prediction.eval(session=sess, feed_dict={\n",
    "    x: X_[0:10],\n",
    "    t: Y_[0:10]\n",
    "})\n",
    "prob = y.eval(session=sess, feed_dict={\n",
    "    x: X_[0:10]\n",
    "})\n",
    "\n",
    "print('classified:')\n",
    "print(classified)\n",
    "print()\n",
    "print('output probability:')\n",
    "print(prob)"
   ]
  },
  {
   "cell_type": "code",
   "execution_count": 6,
   "metadata": {},
   "outputs": [
    {
     "name": "stdout",
     "output_type": "stream",
     "text": [
      "(array([[-1.0931293 ,  0.30058843,  0.7925412 ],\n",
      "       [ 0.7954589 ,  0.29397675, -1.0894353 ]], dtype=float32), array([-0.05914815,  0.10808326, -0.04893514], dtype=float32))\n"
     ]
    }
   ],
   "source": [
    "print(sess.run(W),sess.run(b))"
   ]
  },
  {
   "cell_type": "code",
   "execution_count": 22,
   "metadata": {},
   "outputs": [
    {
     "data": {
      "text/plain": [
       "[<matplotlib.lines.Line2D at 0x7f1bfc71e750>]"
      ]
     },
     "execution_count": 22,
     "metadata": {},
     "output_type": "execute_result"
    },
    {
     "data": {
      "image/png": "[encoded data removed]",
      "text/plain": [
       "<Figure size 432x288 with 1 Axes>"
      ]
     },
     "metadata": {},
     "output_type": "display_data"
    }
   ],
   "source": [
    "W_es = sess.run(W)\n",
    "b_es = sess.run(b)\n",
    "plot_x = np.arange(-2, 10, 0.1)\n",
    "plt.plot(X1[:,0],X1[:,1],'o')\n",
    "plt.plot(X2[:,0],X2[:,1],'o')\n",
    "plt.plot(X3[:,0],X3[:,1],'o')\n",
    "plt.plot(plot_x,(-(W_es[0,0] - W_es[0,1]) * plot_x - (b_es[0]-b_es[1])) /(W_es[1,0] - W_es[1,1]))\n",
    "plt.plot(plot_x,(-(W_es[0,1] - W_es[0,2]) * plot_x - (b_es[1]-b_es[2])) /(W_es[1,1] - W_es[1,2]))\n",
    "plt.plot(plot_x,(-(W_es[0,0] - W_es[0,2]) * plot_x - (b_es[0]-b_es[2])) /(W_es[1,0] - W_es[1,2]))"
   ]
  },
  {
   "cell_type": "code",
   "execution_count": 19,
   "metadata": {},
   "outputs": [
    {
     "data": {
      "text/plain": [
       "0.30058843"
      ]
     },
     "execution_count": 19,
     "metadata": {},
     "output_type": "execute_result"
    }
   ],
   "source": [
    "W_es[0,1]"
   ]
  },
  {
   "cell_type": "code",
   "execution_count": null,
   "metadata": {},
   "outputs": [],
   "source": []
  }
 ],
 "metadata": {
  "kernelspec": {
   "display_name": "Python 2",
   "language": "python",
   "name": "python2"
  },
  "language_info": {
   "codemirror_mode": {
    "name": "ipython",
    "version": 2
   },
   "file_extension": ".py",
   "mimetype": "text/x-python",
   "name": "python",
   "nbconvert_exporter": "python",
   "pygments_lexer": "ipython2",
   "version": "2.7.12"
  }
 },
 "nbformat": 4,
 "nbformat_minor": 2
}
