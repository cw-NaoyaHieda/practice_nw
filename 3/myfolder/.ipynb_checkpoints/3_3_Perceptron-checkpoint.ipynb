{
 "cells": [
  {
   "cell_type": "code",
   "execution_count": 1,
   "metadata": {},
   "outputs": [
    {
     "name": "stdout",
     "output_type": "stream",
     "text": [
      "('w:', array([2.14037745, 1.2763927 ]))\n",
      "('b:', -9)\n",
      "\n",
      "Test:\n",
      "0\n",
      "1\n"
     ]
    }
   ],
   "source": [
    "import numpy as np\n",
    "\n",
    "\n",
    "rng = np.random.RandomState(123)\n",
    "\n",
    "d = 2\n",
    "N = 10\n",
    "\n",
    "mean = 5\n",
    "\n",
    "x1 = rng.randn(N, d) + np.array([0, 0])\n",
    "x2 = rng.randn(N, d) + np.array([mean, mean])\n",
    "\n",
    "x = np.concatenate((x1, x2), axis=0)\n",
    "\n",
    "\n",
    "w = np.zeros(d)\n",
    "b = 0\n",
    "\n",
    "\n",
    "def y(x):\n",
    "    return step(np.dot(w, x) + b)\n",
    "\n",
    "\n",
    "def step(x):\n",
    "    return 1 * (x > 0)\n",
    "\n",
    "\n",
    "def t(i):\n",
    "    if i < N:\n",
    "        return 0\n",
    "    else:\n",
    "        return 1\n",
    "\n",
    "\n",
    "while True:\n",
    "    classified = True\n",
    "    for i in range(N * 2):\n",
    "        delta_w = (t(i) - y(x[i])) * x[i]\n",
    "        delta_b = (t(i) - y(x[i]))\n",
    "        w += delta_w\n",
    "        b += delta_b\n",
    "        classified *= all(delta_w == 0) * (delta_b == 0)\n",
    "    if classified:\n",
    "        break\n",
    "\n",
    "print('w:', w)\n",
    "print('b:', b)\n",
    "\n",
    "print('\\nTest:')\n",
    "print(y([0, 0]))  # => 0\n",
    "print(y([5, 5]))  # => 1\n"
   ]
  },
  {
   "cell_type": "code",
   "execution_count": 7,
   "metadata": {},
   "outputs": [
    {
     "data": {
      "text/plain": [
       "[<matplotlib.lines.Line2D at 0x7f6e0b038e50>]"
      ]
     },
     "execution_count": 7,
     "metadata": {},
     "output_type": "execute_result"
    },
    {
     "data": {
      "image/png": "[encoded data removed]",
      "text/plain": [
       "<Figure size 432x288 with 1 Axes>"
      ]
     },
     "metadata": {},
     "output_type": "display_data"
    }
   ],
   "source": [
    "import matplotlib.pyplot as plt\n",
    "plot_x = np.arange(-2, 6, 0.1)\n",
    "plt.plot(x1[:,0],x1[:,1],'o')\n",
    "plt.plot(x2[:,0],x2[:,1],'o')\n",
    "plt.plot(plot_x,- w[0]/w[1] * plot_x - b)"
   ]
  },
  {
   "cell_type": "code",
   "execution_count": null,
   "metadata": {},
   "outputs": [],
   "source": []
  }
 ],
 "metadata": {
  "kernelspec": {
   "display_name": "Python 2",
   "language": "python",
   "name": "python2"
  },
  "language_info": {
   "codemirror_mode": {
    "name": "ipython",
    "version": 2
   },
   "file_extension": ".py",
   "mimetype": "text/x-python",
   "name": "python",
   "nbconvert_exporter": "python",
   "pygments_lexer": "ipython2",
   "version": "2.7.12"
  }
 },
 "nbformat": 4,
 "nbformat_minor": 2
}
