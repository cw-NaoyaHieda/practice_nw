{
 "cells": [
  {
   "cell_type": "markdown",
   "metadata": {},
   "source": [
    "モデル設定"
   ]
  },
  {
   "cell_type": "code",
   "execution_count": 2,
   "metadata": {},
   "outputs": [],
   "source": [
    "import numpy as np\n",
    "import tensorflow as tf\n",
    "\n",
    "\n",
    "tf.set_random_seed(0)  # 乱数シード\n",
    "#入力が二次元、出力が一次元なので、以下のように定義\n",
    "w = tf.Variable(tf.zeros([2, 1]))\n",
    "b = tf.Variable(tf.zeros([1]))\n",
    "#xが入力の箱、tは正解の箱、yは出力の箱\n",
    "x = tf.placeholder(tf.float32, shape=[None, 2])\n",
    "t = tf.placeholder(tf.float32, shape=[None, 1])\n",
    "y = tf.nn.sigmoid(tf.matmul(x, w) + b)\n",
    "#交差エントロピーの実装\n",
    "cross_entropy = - tf.reduce_sum(t * tf.log(y) + (1 - t) * tf.log(1 - y))\n",
    "#確率的勾配法の実装\n",
    "train_step = tf.train.GradientDescentOptimizer(0.1).minimize(cross_entropy)\n",
    "#0.5以上かどうかで判断\n",
    "correct_prediction = tf.equal(tf.to_float(tf.greater(y, 0.5)), t)"
   ]
  },
  {
   "cell_type": "markdown",
   "metadata": {},
   "source": [
    "モデル学習"
   ]
  },
  {
   "cell_type": "code",
   "execution_count": 3,
   "metadata": {},
   "outputs": [],
   "source": [
    "# ORゲート 学習用のデータ\n",
    "X = np.array([[0, 0], [0, 1], [1, 0], [1, 1]])\n",
    "Y = np.array([[0], [1], [1], [1]])\n",
    "\n",
    "# 初期化\n",
    "init = tf.global_variables_initializer()\n",
    "sess = tf.Session()\n",
    "sess.run(init)\n",
    "\n",
    "# 学習\n",
    "for epoch in range(200):\n",
    "    sess.run(train_step, feed_dict={\n",
    "        x: X,\n",
    "        t: Y\n",
    "    })\n",
    "\n"
   ]
  },
  {
   "cell_type": "markdown",
   "metadata": {},
   "source": [
    "学習結果の確認"
   ]
  },
  {
   "cell_type": "code",
   "execution_count": 4,
   "metadata": {},
   "outputs": [
    {
     "name": "stdout",
     "output_type": "stream",
     "text": [
      "classified:\n",
      "[[ True]\n",
      " [ True]\n",
      " [ True]\n",
      " [ True]]\n",
      "()\n",
      "output probability:\n",
      "[[0.22355038]\n",
      " [0.9142595 ]\n",
      " [0.9142595 ]\n",
      " [0.99747425]]\n"
     ]
    }
   ],
   "source": [
    "#\n",
    "classified = correct_prediction.eval(session=sess, feed_dict={\n",
    "    x: X,\n",
    "    t: Y\n",
    "})\n",
    "prob = y.eval(session=sess, feed_dict={\n",
    "    x: X\n",
    "})\n",
    "\n",
    "print('classified:')\n",
    "print(classified)\n",
    "print()\n",
    "print('output probability:')\n",
    "print(prob)\n"
   ]
  },
  {
   "cell_type": "code",
   "execution_count": 5,
   "metadata": {},
   "outputs": [
    {
     "name": "stdout",
     "output_type": "stream",
     "text": [
      "('w:', array([[3.6118844],\n",
      "       [3.6118844]], dtype=float32))\n",
      "('b:', array([-1.245095], dtype=float32))\n"
     ]
    }
   ],
   "source": [
    "print('w:', sess.run(w))\n",
    "print('b:', sess.run(b))"
   ]
  },
  {
   "cell_type": "code",
   "execution_count": null,
   "metadata": {},
   "outputs": [],
   "source": []
  }
 ],
 "metadata": {
  "kernelspec": {
   "display_name": "Python 2",
   "language": "python",
   "name": "python2"
  },
  "language_info": {
   "codemirror_mode": {
    "name": "ipython",
    "version": 2
   },
   "file_extension": ".py",
   "mimetype": "text/x-python",
   "name": "python",
   "nbconvert_exporter": "python",
   "pygments_lexer": "ipython2",
   "version": "2.7.12"
  }
 },
 "nbformat": 4,
 "nbformat_minor": 2
}
